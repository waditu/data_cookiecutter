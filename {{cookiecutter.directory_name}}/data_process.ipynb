{
 "cells": [
  {
   "cell_type": "markdown",
   "metadata": {},
   "source": [
    "## mytest\n",
    "\n",
    "测试数据分析过程\n",
    "\n",
    "### 数据来源和文件\n",
    "- 数据文件 : Description of where this file came from\n",
    "\n",
    "### 程序变更\n",
    "- 11-25-2018 : Started project"
   ]
  },
  {
   "cell_type": "code",
   "execution_count": 69,
   "metadata": {
    "collapsed": true
   },
   "outputs": [],
   "source": [
    "import tushare as ts\n",
    "import pandas as pd\n",
    "from pathlib import Path"
   ]
  },
  {
   "cell_type": "markdown",
   "metadata": {},
   "source": [
    "## 文件路径"
   ]
  },
  {
   "cell_type": "code",
   "execution_count": 92,
   "metadata": {},
   "outputs": [],
   "source": [
    "raw_file = '%s/data/raw/'%Path.cwd()\n",
    "processed_file = '%s/data/processed/'%Path.cwd()"
   ]
  },
  {
   "cell_type": "markdown",
   "metadata": {},
   "source": [
    "## 数据来源及原始数据获取"
   ]
  },
  {
   "cell_type": "code",
   "execution_count": 14,
   "metadata": {},
   "outputs": [],
   "source": [
    "pro = ts.pro_api()\n",
    "ds = pro.daily(ts_code='000001.SZ')"
   ]
  },
  {
   "cell_type": "markdown",
   "metadata": {},
   "source": [
    "## 原始数据存储"
   ]
  },
  {
   "cell_type": "code",
   "execution_count": 97,
   "metadata": {},
   "outputs": [],
   "source": [
    "#存储到原始数据目录\n",
    "ds.to_csv('%s000001.csv'%raw_file, index=False)"
   ]
  },
  {
   "cell_type": "markdown",
   "metadata": {},
   "source": [
    "## 数据加载和处理"
   ]
  },
  {
   "cell_type": "code",
   "execution_count": 81,
   "metadata": {
    "collapsed": true
   },
   "outputs": [],
   "source": [
    "data = pd.read_csv('%s000001.csv'%raw_file, dtype={'trade_date': object})\n",
    "data = data[['trade_date', 'open', 'high', 'low', 'close', 'vol', 'amount']]\n",
    "data['trade_date'] = pd.to_datetime(data['trade_date'])"
   ]
  },
  {
   "cell_type": "markdown",
   "metadata": {},
   "source": [
    "## 数据分析过程"
   ]
  },
  {
   "cell_type": "code",
   "execution_count": 83,
   "metadata": {
    "scrolled": true
   },
   "outputs": [],
   "source": [
    "KLINES = {\n",
    "          'open': 'first',\n",
    "          'high': 'max',\n",
    "          'low': 'min',\n",
    "          'close': 'last',\n",
    "          'vol': 'sum',\n",
    "          'amount': 'sum'\n",
    "          }\n",
    "FORMAT = lambda x: '%.4f' % x"
   ]
  },
  {
   "cell_type": "code",
   "execution_count": 84,
   "metadata": {},
   "outputs": [],
   "source": [
    "data = data.set_index('trade_date')\n",
    "    \n",
    "df = pd.DataFrame()\n",
    "for col in data.columns:\n",
    "    df[col] = data[col].resample('W-FRI').apply(KLINES[col])\n",
    "df = df.dropna()\n",
    "df = df.reset_index()\n",
    "df['trade_date'] = df['trade_date'].map(lambda x: str(x)[0:10].replace('-', ''))\n"
   ]
  },
  {
   "cell_type": "markdown",
   "metadata": {},
   "source": [
    "## 结果文件存储"
   ]
  },
  {
   "cell_type": "code",
   "execution_count": 93,
   "metadata": {},
   "outputs": [],
   "source": [
    "df.to_csv('%s000001.csv'%processed_file, index=False)"
   ]
  },
  {
   "cell_type": "markdown",
   "metadata": {},
   "source": [
    "## 数据报告实现"
   ]
  },
  {
   "cell_type": "code",
   "execution_count": null,
   "metadata": {
    "collapsed": true
   },
   "outputs": [],
   "source": []
  }
 ],
 "metadata": {
  "kernelspec": {
   "display_name": "Python 2",
   "language": "python",
   "name": "python2"
  },
  "language_info": {
   "codemirror_mode": {
    "name": "ipython",
    "version": 2
   },
   "file_extension": ".py",
   "mimetype": "text/x-python",
   "name": "python",
   "nbconvert_exporter": "python",
   "pygments_lexer": "ipython2",
   "version": "2.7.13"
  }
 },
 "nbformat": 4,
 "nbformat_minor": 2
}
